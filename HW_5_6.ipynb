{
  "nbformat": 4,
  "nbformat_minor": 0,
  "metadata": {
    "colab": {
      "name": "HW 5-6.ipynb",
      "provenance": [],
      "collapsed_sections": []
    },
    "kernelspec": {
      "name": "python3",
      "display_name": "Python 3"
    },
    "accelerator": "TPU"
  },
  "cells": [
    {
      "cell_type": "code",
      "metadata": {
        "id": "Xa3gq-Lh9jRX",
        "colab_type": "code",
        "colab": {}
      },
      "source": [
        "import random\n",
        "\n",
        "def petersonsAlgorithm():\n",
        "  interleaving = []\n",
        "  p = ['P1','P2','P3','P4','P5']\n",
        "  q = ['Q1','Q2','Q3','Q4','Q5']\n",
        "\n",
        "  flagP = False\n",
        "  flagQ = False\n",
        "  turn = 'none'\n",
        "\n",
        "  while len(p) > 0 and len(q) > 0: # while p and q are not empty\n",
        "    choice = random.choice([p[0],q[0]])\n",
        "    if choice == 'P1':\n",
        "      flagP = True\n",
        "      p.pop(0)\n",
        "      interleaving.append(choice)\n",
        "    if choice == 'P2':\n",
        "      turn = 'Q'\n",
        "      p.pop(0)\n",
        "      interleaving.append(choice)\n",
        "    if choice == 'P3':\n",
        "      p.pop(0)\n",
        "      interleaving.append(choice)\n",
        "    if choice == 'P4':\n",
        "      if not (flagQ and turn == 'Q'):\n",
        "        p.pop(0)\n",
        "        interleaving.append(choice)\n",
        "    if choice == 'P5':\n",
        "      flagP = False\n",
        "      p.pop(0)\n",
        "      interleaving.append(choice)\n",
        "\n",
        "    if choice == 'Q1':\n",
        "      flagQ = True\n",
        "      q.pop(0)\n",
        "      interleaving.append(choice)\n",
        "    if choice == 'Q2':\n",
        "      turn = 'P'\n",
        "      q.pop(0)\n",
        "      interleaving.append(choice)\n",
        "    if choice == 'Q3':\n",
        "      q.pop(0)\n",
        "      interleaving.append(choice)\n",
        "    if choice == 'Q4':\n",
        "      if not (flagP and turn == 'P'):\n",
        "        q.pop(0)\n",
        "        interleaving.append(choice)\n",
        "    if choice == 'Q5':\n",
        "      flagQ = False\n",
        "      q.pop(0)\n",
        "      interleaving.append(choice)\n",
        "\n",
        "  # will only execute one of the following 2 while loops,\n",
        "  # whichever process needs to be finished\n",
        "  while len(p) > 0:\n",
        "    interleaving.append(p[0])\n",
        "    p.pop(0)\n",
        "  while len(q) > 0:\n",
        "    interleaving.append(q[0])\n",
        "    q.pop(0)\n",
        "\n",
        "  return interleaving"
      ],
      "execution_count": 0,
      "outputs": []
    },
    {
      "cell_type": "code",
      "metadata": {
        "id": "r_19pj6nCgHO",
        "colab_type": "code",
        "outputId": "f65ca5e7-74f0-45e2-a6b3-9cc46b49d4e0",
        "colab": {
          "base_uri": "https://localhost:8080/",
          "height": 34
        }
      },
      "source": [
        "interleavings = []\n",
        "countSoFar = 0\n",
        "for count in range(1000000):\n",
        "  countSoFar += 1\n",
        "  interleaving = petersonsAlgorithm()\n",
        "  if interleaving not in interleavings:\n",
        "    interleavings.append(interleaving)\n",
        "\n",
        "print(len(interleavings))"
      ],
      "execution_count": 0,
      "outputs": [
        {
          "output_type": "stream",
          "text": [
            "56\n"
          ],
          "name": "stdout"
        }
      ]
    },
    {
      "cell_type": "code",
      "metadata": {
        "id": "S2HgZTF6Iwo3",
        "colab_type": "code",
        "outputId": "52691939-0b39-454a-feea-a6e502432269",
        "colab": {
          "base_uri": "https://localhost:8080/",
          "height": 1000
        }
      },
      "source": [
        "for i in interleavings:\n",
        "  print(i)"
      ],
      "execution_count": 0,
      "outputs": [
        {
          "output_type": "stream",
          "text": [
            "['Q1', 'Q2', 'Q3', 'P1', 'P2', 'Q4', 'Q5', 'P3', 'P4', 'P5']\n",
            "['Q1', 'Q2', 'P1', 'Q3', 'P2', 'P3', 'Q4', 'Q5', 'P4', 'P5']\n",
            "['Q1', 'Q2', 'P1', 'Q3', 'P2', 'Q4', 'Q5', 'P3', 'P4', 'P5']\n",
            "['Q1', 'P1', 'P2', 'Q2', 'P3', 'P4', 'Q3', 'P5', 'Q4', 'Q5']\n",
            "['P1', 'P2', 'P3', 'Q1', 'Q2', 'P4', 'Q3', 'P5', 'Q4', 'Q5']\n",
            "['Q1', 'P1', 'P2', 'P3', 'Q2', 'P4', 'P5', 'Q3', 'Q4', 'Q5']\n",
            "['P1', 'P2', 'Q1', 'Q2', 'Q3', 'P3', 'P4', 'P5', 'Q4', 'Q5']\n",
            "['Q1', 'P1', 'Q2', 'Q3', 'P2', 'P3', 'Q4', 'Q5', 'P4', 'P5']\n",
            "['P1', 'P2', 'Q1', 'Q2', 'P3', 'P4', 'Q3', 'P5', 'Q4', 'Q5']\n",
            "['P1', 'Q1', 'Q2', 'P2', 'Q3', 'P3', 'Q4', 'Q5', 'P4', 'P5']\n",
            "['P1', 'Q1', 'P2', 'P3', 'Q2', 'P4', 'P5', 'Q3', 'Q4', 'Q5']\n",
            "['Q1', 'Q2', 'P1', 'P2', 'Q3', 'P3', 'Q4', 'Q5', 'P4', 'P5']\n",
            "['P1', 'Q1', 'Q2', 'Q3', 'P2', 'P3', 'Q4', 'Q5', 'P4', 'P5']\n",
            "['P1', 'Q1', 'Q2', 'P2', 'P3', 'Q3', 'Q4', 'Q5', 'P4', 'P5']\n",
            "['P1', 'P2', 'P3', 'P4', 'P5', 'Q1', 'Q2', 'Q3', 'Q4', 'Q5']\n",
            "['Q1', 'Q2', 'Q3', 'P1', 'P2', 'Q4', 'P3', 'Q5', 'P4', 'P5']\n",
            "['P1', 'P2', 'P3', 'Q1', 'Q2', 'Q3', 'P4', 'P5', 'Q4', 'Q5']\n",
            "['Q1', 'Q2', 'Q3', 'Q4', 'P1', 'P2', 'Q5', 'P3', 'P4', 'P5']\n",
            "['P1', 'P2', 'P3', 'P4', 'Q1', 'P5', 'Q2', 'Q3', 'Q4', 'Q5']\n",
            "['P1', 'P2', 'Q1', 'Q2', 'P3', 'Q3', 'P4', 'P5', 'Q4', 'Q5']\n",
            "['Q1', 'Q2', 'P1', 'P2', 'P3', 'Q3', 'Q4', 'Q5', 'P4', 'P5']\n",
            "['Q1', 'Q2', 'Q3', 'Q4', 'P1', 'Q5', 'P2', 'P3', 'P4', 'P5']\n",
            "['Q1', 'Q2', 'Q3', 'Q4', 'P1', 'P2', 'P3', 'Q5', 'P4', 'P5']\n",
            "['Q1', 'P1', 'Q2', 'Q3', 'P2', 'Q4', 'Q5', 'P3', 'P4', 'P5']\n",
            "['P1', 'Q1', 'Q2', 'P2', 'Q3', 'Q4', 'Q5', 'P3', 'P4', 'P5']\n",
            "['Q1', 'P1', 'P2', 'P3', 'Q2', 'P4', 'Q3', 'P5', 'Q4', 'Q5']\n",
            "['Q1', 'P1', 'Q2', 'P2', 'Q3', 'Q4', 'Q5', 'P3', 'P4', 'P5']\n",
            "['Q1', 'P1', 'Q2', 'P2', 'Q3', 'P3', 'Q4', 'Q5', 'P4', 'P5']\n",
            "['P1', 'P2', 'Q1', 'P3', 'Q2', 'P4', 'P5', 'Q3', 'Q4', 'Q5']\n",
            "['Q1', 'P1', 'P2', 'Q2', 'P3', 'P4', 'P5', 'Q3', 'Q4', 'Q5']\n",
            "['Q1', 'Q2', 'Q3', 'P1', 'P2', 'P3', 'Q4', 'Q5', 'P4', 'P5']\n",
            "['P1', 'P2', 'Q1', 'P3', 'Q2', 'Q3', 'P4', 'P5', 'Q4', 'Q5']\n",
            "['Q1', 'P1', 'P2', 'Q2', 'Q3', 'P3', 'P4', 'P5', 'Q4', 'Q5']\n",
            "['P1', 'Q1', 'P2', 'Q2', 'P3', 'P4', 'P5', 'Q3', 'Q4', 'Q5']\n",
            "['P1', 'Q1', 'P2', 'Q2', 'Q3', 'P3', 'P4', 'P5', 'Q4', 'Q5']\n",
            "['Q1', 'Q2', 'Q3', 'Q4', 'Q5', 'P1', 'P2', 'P3', 'P4', 'P5']\n",
            "['Q1', 'Q2', 'P1', 'Q3', 'P2', 'Q4', 'P3', 'Q5', 'P4', 'P5']\n",
            "['Q1', 'P1', 'Q2', 'P2', 'Q3', 'Q4', 'P3', 'Q5', 'P4', 'P5']\n",
            "['P1', 'Q1', 'P2', 'P3', 'Q2', 'Q3', 'P4', 'P5', 'Q4', 'Q5']\n",
            "['P1', 'P2', 'P3', 'Q1', 'Q2', 'P4', 'P5', 'Q3', 'Q4', 'Q5']\n",
            "['P1', 'Q1', 'Q2', 'Q3', 'P2', 'Q4', 'Q5', 'P3', 'P4', 'P5']\n",
            "['Q1', 'P1', 'Q2', 'Q3', 'P2', 'Q4', 'P3', 'Q5', 'P4', 'P5']\n",
            "['P1', 'Q1', 'P2', 'Q2', 'P3', 'Q3', 'P4', 'P5', 'Q4', 'Q5']\n",
            "['P1', 'P2', 'P3', 'P4', 'Q1', 'Q2', 'P5', 'Q3', 'Q4', 'Q5']\n",
            "['P1', 'Q1', 'P2', 'P3', 'Q2', 'P4', 'Q3', 'P5', 'Q4', 'Q5']\n",
            "['Q1', 'P1', 'Q2', 'P2', 'P3', 'Q3', 'Q4', 'Q5', 'P4', 'P5']\n",
            "['P1', 'P2', 'Q1', 'P3', 'Q2', 'P4', 'Q3', 'P5', 'Q4', 'Q5']\n",
            "['P1', 'P2', 'Q1', 'Q2', 'P3', 'P4', 'P5', 'Q3', 'Q4', 'Q5']\n",
            "['P1', 'P2', 'P3', 'P4', 'Q1', 'Q2', 'Q3', 'P5', 'Q4', 'Q5']\n",
            "['P1', 'Q1', 'Q2', 'Q3', 'P2', 'Q4', 'P3', 'Q5', 'P4', 'P5']\n",
            "['P1', 'Q1', 'Q2', 'P2', 'Q3', 'Q4', 'P3', 'Q5', 'P4', 'P5']\n",
            "['Q1', 'P1', 'P2', 'Q2', 'P3', 'Q3', 'P4', 'P5', 'Q4', 'Q5']\n",
            "['Q1', 'Q2', 'P1', 'P2', 'Q3', 'Q4', 'P3', 'Q5', 'P4', 'P5']\n",
            "['Q1', 'P1', 'P2', 'P3', 'Q2', 'Q3', 'P4', 'P5', 'Q4', 'Q5']\n",
            "['P1', 'Q1', 'P2', 'Q2', 'P3', 'P4', 'Q3', 'P5', 'Q4', 'Q5']\n",
            "['Q1', 'Q2', 'P1', 'P2', 'Q3', 'Q4', 'Q5', 'P3', 'P4', 'P5']\n"
          ],
          "name": "stdout"
        }
      ]
    },
    {
      "cell_type": "code",
      "metadata": {
        "id": "yChmxhM7NLlH",
        "colab_type": "code",
        "outputId": "a5046482-6db9-4417-ea09-82111aea799a",
        "colab": {
          "base_uri": "https://localhost:8080/",
          "height": 34
        }
      },
      "source": [
        "print(countSoFar)"
      ],
      "execution_count": 0,
      "outputs": [
        {
          "output_type": "stream",
          "text": [
            "1000000\n"
          ],
          "name": "stdout"
        }
      ]
    },
    {
      "cell_type": "code",
      "metadata": {
        "id": "_zBczAoUSRzG",
        "colab_type": "code",
        "colab": {}
      },
      "source": [
        "def petersonsCheck(interleaving):\n",
        "  pCount = 1\n",
        "  qCount = 1\n",
        "\n",
        "  flagP = False\n",
        "  flagQ = False\n",
        "  turn = 'none'\n",
        "\n",
        "  while len(interleaving) > 0:\n",
        "    step = interleaving.pop(0)\n",
        "    \n",
        "    if step == 'P1' and pCount != 1:\n",
        "      return False\n",
        "    if step == 'P1' and pCount == 1:\n",
        "      flagP = True\n",
        "      pCount += 1\n",
        "\n",
        "    if step == 'P2' and pCount != 2:\n",
        "      return False\n",
        "    if step == 'P2' and pCount == 2:\n",
        "      turn = 'Q'\n",
        "      pCount += 1\n",
        "\n",
        "    if step == 'P3' and pCount != 3:\n",
        "      return False\n",
        "    if step == 'P3' and pCount == 3:\n",
        "      pCount += 1\n",
        "\n",
        "    if step == 'P4' and pCount != 4:\n",
        "      return False\n",
        "    if step == 'P4' and pCount == 4:\n",
        "      if not (flagQ and turn == 'Q'):\n",
        "        pCount += 1\n",
        "      if flagQ and turn == 'Q':\n",
        "        return False\n",
        "\n",
        "    if step == 'P5' and pCount != 5:\n",
        "      return False\n",
        "    if step == 'P5' and pCount == 5:\n",
        "      flagP = False\n",
        "\n",
        "    if step == 'Q1' and qCount != 1:\n",
        "      return False\n",
        "    if step == 'Q1' and qCount == 1:\n",
        "      flagQ = True\n",
        "      qCount += 1\n",
        "\n",
        "    if step == 'Q2' and qCount != 2:\n",
        "      return False\n",
        "    if step == 'Q2' and qCount == 2:\n",
        "      turn = 'P'\n",
        "      qCount += 1\n",
        "\n",
        "    if step == 'Q3' and qCount != 3:\n",
        "      return False\n",
        "    if step == 'Q3' and qCount == 3:\n",
        "      qCount += 1\n",
        "\n",
        "    if step == 'Q4' and qCount != 4:\n",
        "      return False\n",
        "    if step == 'Q4' and qCount == 4:\n",
        "      if not (flagP and turn == 'P'):\n",
        "        qCount += 1\n",
        "      if flagP and turn == 'P':\n",
        "        return False\n",
        "\n",
        "    if step == 'Q5' and qCount != 5:\n",
        "      return False\n",
        "    if step == 'Q5' and qCount == 5:\n",
        "      flagQ = False\n",
        "\n",
        "  return True"
      ],
      "execution_count": 0,
      "outputs": []
    },
    {
      "cell_type": "code",
      "metadata": {
        "id": "uaqvISc8cpmq",
        "colab_type": "code",
        "outputId": "836c4d6f-0a18-4da9-f15c-beb03eeca4bb",
        "colab": {
          "base_uri": "https://localhost:8080/",
          "height": 34
        }
      },
      "source": [
        "from itertools import permutations \n",
        "\n",
        "choices = ['P1','P2','P3','P4','P5','Q1','Q2','Q3','Q4','Q5']\n",
        "allPossibleInterleavings = list(permutations(choices))\n",
        "\n",
        "print(len(allPossibleInterleavings))"
      ],
      "execution_count": 0,
      "outputs": [
        {
          "output_type": "stream",
          "text": [
            "3628800\n"
          ],
          "name": "stdout"
        }
      ]
    },
    {
      "cell_type": "code",
      "metadata": {
        "id": "q7cxgYNsfhIS",
        "colab_type": "code",
        "outputId": "77a77913-8834-422a-abc2-06acaf6f3fb0",
        "colab": {
          "base_uri": "https://localhost:8080/",
          "height": 34
        }
      },
      "source": [
        "petersonsCheck(['Q1', 'Q2', 'Q3', 'P1', 'P2', 'Q4', 'P3', 'Q5', 'P4', 'P5'])"
      ],
      "execution_count": 0,
      "outputs": [
        {
          "output_type": "execute_result",
          "data": {
            "text/plain": [
              "True"
            ]
          },
          "metadata": {
            "tags": []
          },
          "execution_count": 57
        }
      ]
    },
    {
      "cell_type": "code",
      "metadata": {
        "id": "Wwysp-20dM8K",
        "colab_type": "code",
        "outputId": "fbeaf51a-7840-4686-de7a-8257ba9d6cef",
        "colab": {
          "base_uri": "https://localhost:8080/",
          "height": 34
        }
      },
      "source": [
        "validCount = 0\n",
        "validInterleavings = []\n",
        "for currentInterleaving in allPossibleInterleavings:\n",
        "  if petersonsCheck(list(currentInterleaving)):\n",
        "    validCount += 1\n",
        "    validInterleavings.append(currentInterleaving)\n",
        "\n",
        "validCount"
      ],
      "execution_count": 0,
      "outputs": [
        {
          "output_type": "execute_result",
          "data": {
            "text/plain": [
              "56"
            ]
          },
          "metadata": {
            "tags": []
          },
          "execution_count": 58
        }
      ]
    },
    {
      "cell_type": "code",
      "metadata": {
        "id": "r0kaCP2sdaNh",
        "colab_type": "code",
        "outputId": "8f7cbc9a-353a-4016-bdfd-6512d1ff8b2a",
        "colab": {
          "base_uri": "https://localhost:8080/",
          "height": 1000
        }
      },
      "source": [
        "validInterleavings"
      ],
      "execution_count": 0,
      "outputs": [
        {
          "output_type": "execute_result",
          "data": {
            "text/plain": [
              "[('P1', 'P2', 'P3', 'P4', 'P5', 'Q1', 'Q2', 'Q3', 'Q4', 'Q5'),\n",
              " ('P1', 'P2', 'P3', 'P4', 'Q1', 'P5', 'Q2', 'Q3', 'Q4', 'Q5'),\n",
              " ('P1', 'P2', 'P3', 'P4', 'Q1', 'Q2', 'P5', 'Q3', 'Q4', 'Q5'),\n",
              " ('P1', 'P2', 'P3', 'P4', 'Q1', 'Q2', 'Q3', 'P5', 'Q4', 'Q5'),\n",
              " ('P1', 'P2', 'P3', 'Q1', 'Q2', 'P4', 'P5', 'Q3', 'Q4', 'Q5'),\n",
              " ('P1', 'P2', 'P3', 'Q1', 'Q2', 'P4', 'Q3', 'P5', 'Q4', 'Q5'),\n",
              " ('P1', 'P2', 'P3', 'Q1', 'Q2', 'Q3', 'P4', 'P5', 'Q4', 'Q5'),\n",
              " ('P1', 'P2', 'Q1', 'P3', 'Q2', 'P4', 'P5', 'Q3', 'Q4', 'Q5'),\n",
              " ('P1', 'P2', 'Q1', 'P3', 'Q2', 'P4', 'Q3', 'P5', 'Q4', 'Q5'),\n",
              " ('P1', 'P2', 'Q1', 'P3', 'Q2', 'Q3', 'P4', 'P5', 'Q4', 'Q5'),\n",
              " ('P1', 'P2', 'Q1', 'Q2', 'P3', 'P4', 'P5', 'Q3', 'Q4', 'Q5'),\n",
              " ('P1', 'P2', 'Q1', 'Q2', 'P3', 'P4', 'Q3', 'P5', 'Q4', 'Q5'),\n",
              " ('P1', 'P2', 'Q1', 'Q2', 'P3', 'Q3', 'P4', 'P5', 'Q4', 'Q5'),\n",
              " ('P1', 'P2', 'Q1', 'Q2', 'Q3', 'P3', 'P4', 'P5', 'Q4', 'Q5'),\n",
              " ('P1', 'Q1', 'P2', 'P3', 'Q2', 'P4', 'P5', 'Q3', 'Q4', 'Q5'),\n",
              " ('P1', 'Q1', 'P2', 'P3', 'Q2', 'P4', 'Q3', 'P5', 'Q4', 'Q5'),\n",
              " ('P1', 'Q1', 'P2', 'P3', 'Q2', 'Q3', 'P4', 'P5', 'Q4', 'Q5'),\n",
              " ('P1', 'Q1', 'P2', 'Q2', 'P3', 'P4', 'P5', 'Q3', 'Q4', 'Q5'),\n",
              " ('P1', 'Q1', 'P2', 'Q2', 'P3', 'P4', 'Q3', 'P5', 'Q4', 'Q5'),\n",
              " ('P1', 'Q1', 'P2', 'Q2', 'P3', 'Q3', 'P4', 'P5', 'Q4', 'Q5'),\n",
              " ('P1', 'Q1', 'P2', 'Q2', 'Q3', 'P3', 'P4', 'P5', 'Q4', 'Q5'),\n",
              " ('P1', 'Q1', 'Q2', 'P2', 'P3', 'Q3', 'Q4', 'Q5', 'P4', 'P5'),\n",
              " ('P1', 'Q1', 'Q2', 'P2', 'Q3', 'P3', 'Q4', 'Q5', 'P4', 'P5'),\n",
              " ('P1', 'Q1', 'Q2', 'P2', 'Q3', 'Q4', 'P3', 'Q5', 'P4', 'P5'),\n",
              " ('P1', 'Q1', 'Q2', 'P2', 'Q3', 'Q4', 'Q5', 'P3', 'P4', 'P5'),\n",
              " ('P1', 'Q1', 'Q2', 'Q3', 'P2', 'P3', 'Q4', 'Q5', 'P4', 'P5'),\n",
              " ('P1', 'Q1', 'Q2', 'Q3', 'P2', 'Q4', 'P3', 'Q5', 'P4', 'P5'),\n",
              " ('P1', 'Q1', 'Q2', 'Q3', 'P2', 'Q4', 'Q5', 'P3', 'P4', 'P5'),\n",
              " ('Q1', 'P1', 'P2', 'P3', 'Q2', 'P4', 'P5', 'Q3', 'Q4', 'Q5'),\n",
              " ('Q1', 'P1', 'P2', 'P3', 'Q2', 'P4', 'Q3', 'P5', 'Q4', 'Q5'),\n",
              " ('Q1', 'P1', 'P2', 'P3', 'Q2', 'Q3', 'P4', 'P5', 'Q4', 'Q5'),\n",
              " ('Q1', 'P1', 'P2', 'Q2', 'P3', 'P4', 'P5', 'Q3', 'Q4', 'Q5'),\n",
              " ('Q1', 'P1', 'P2', 'Q2', 'P3', 'P4', 'Q3', 'P5', 'Q4', 'Q5'),\n",
              " ('Q1', 'P1', 'P2', 'Q2', 'P3', 'Q3', 'P4', 'P5', 'Q4', 'Q5'),\n",
              " ('Q1', 'P1', 'P2', 'Q2', 'Q3', 'P3', 'P4', 'P5', 'Q4', 'Q5'),\n",
              " ('Q1', 'P1', 'Q2', 'P2', 'P3', 'Q3', 'Q4', 'Q5', 'P4', 'P5'),\n",
              " ('Q1', 'P1', 'Q2', 'P2', 'Q3', 'P3', 'Q4', 'Q5', 'P4', 'P5'),\n",
              " ('Q1', 'P1', 'Q2', 'P2', 'Q3', 'Q4', 'P3', 'Q5', 'P4', 'P5'),\n",
              " ('Q1', 'P1', 'Q2', 'P2', 'Q3', 'Q4', 'Q5', 'P3', 'P4', 'P5'),\n",
              " ('Q1', 'P1', 'Q2', 'Q3', 'P2', 'P3', 'Q4', 'Q5', 'P4', 'P5'),\n",
              " ('Q1', 'P1', 'Q2', 'Q3', 'P2', 'Q4', 'P3', 'Q5', 'P4', 'P5'),\n",
              " ('Q1', 'P1', 'Q2', 'Q3', 'P2', 'Q4', 'Q5', 'P3', 'P4', 'P5'),\n",
              " ('Q1', 'Q2', 'P1', 'P2', 'P3', 'Q3', 'Q4', 'Q5', 'P4', 'P5'),\n",
              " ('Q1', 'Q2', 'P1', 'P2', 'Q3', 'P3', 'Q4', 'Q5', 'P4', 'P5'),\n",
              " ('Q1', 'Q2', 'P1', 'P2', 'Q3', 'Q4', 'P3', 'Q5', 'P4', 'P5'),\n",
              " ('Q1', 'Q2', 'P1', 'P2', 'Q3', 'Q4', 'Q5', 'P3', 'P4', 'P5'),\n",
              " ('Q1', 'Q2', 'P1', 'Q3', 'P2', 'P3', 'Q4', 'Q5', 'P4', 'P5'),\n",
              " ('Q1', 'Q2', 'P1', 'Q3', 'P2', 'Q4', 'P3', 'Q5', 'P4', 'P5'),\n",
              " ('Q1', 'Q2', 'P1', 'Q3', 'P2', 'Q4', 'Q5', 'P3', 'P4', 'P5'),\n",
              " ('Q1', 'Q2', 'Q3', 'P1', 'P2', 'P3', 'Q4', 'Q5', 'P4', 'P5'),\n",
              " ('Q1', 'Q2', 'Q3', 'P1', 'P2', 'Q4', 'P3', 'Q5', 'P4', 'P5'),\n",
              " ('Q1', 'Q2', 'Q3', 'P1', 'P2', 'Q4', 'Q5', 'P3', 'P4', 'P5'),\n",
              " ('Q1', 'Q2', 'Q3', 'Q4', 'P1', 'P2', 'P3', 'Q5', 'P4', 'P5'),\n",
              " ('Q1', 'Q2', 'Q3', 'Q4', 'P1', 'P2', 'Q5', 'P3', 'P4', 'P5'),\n",
              " ('Q1', 'Q2', 'Q3', 'Q4', 'P1', 'Q5', 'P2', 'P3', 'P4', 'P5'),\n",
              " ('Q1', 'Q2', 'Q3', 'Q4', 'Q5', 'P1', 'P2', 'P3', 'P4', 'P5')]"
            ]
          },
          "metadata": {
            "tags": []
          },
          "execution_count": 40
        }
      ]
    },
    {
      "cell_type": "code",
      "metadata": {
        "id": "APMyiZYGgSpW",
        "colab_type": "code",
        "colab": {}
      },
      "source": [
        "def readMeaning(interleaving):\n",
        "  flagP = False\n",
        "  flagQ = False\n",
        "  firstDone = False\n",
        "\n",
        "  while len(interleaving) > 0:\n",
        "    step = interleaving.pop(0)\n",
        "    if step == 'P1':\n",
        "      print(\"P is ready to enter\")\n",
        "      flagP = True\n",
        "    if step == 'Q1':\n",
        "      print(\"Q is ready to enter\")\n",
        "      flagQ = True\n",
        "    if step == 'P2':\n",
        "      print(\"P gives the turn to Q\")\n",
        "      turn = 'P'\n",
        "    if step == 'Q2':\n",
        "      print(\"Q gives the turn to P\")\n",
        "      turn = 'Q'\n",
        "    if step == 'P3':\n",
        "      print(\"P checking if it has to wait\")\n",
        "    if step == 'Q3':\n",
        "      print(\"Q checking if it has to wait\")\n",
        "    if step == 'P4':\n",
        "      print(\"P's critical section\")\n",
        "    if step == 'Q4':\n",
        "      print(\"Q's critical section\")\n",
        "    if step == 'P5':\n",
        "      if not firstDone:\n",
        "        print(\"P no longer wants to enter and unbuffers Q\")\n",
        "        firstDone = True\n",
        "      else:\n",
        "        print(\"P no longer wants to enter\")\n",
        "      flagP = False\n",
        "    if step == 'Q5':\n",
        "      if not firstDone:\n",
        "        print(\"Q no longer wants to enter and unbuffers P\")\n",
        "        firstDone = True\n",
        "      else:\n",
        "        print(\"Q no longer wants to enter\")\n",
        "      flagQ = False"
      ],
      "execution_count": 0,
      "outputs": []
    },
    {
      "cell_type": "code",
      "metadata": {
        "id": "HnawrORNpV9c",
        "colab_type": "code",
        "outputId": "a4f61e72-311b-41dc-c406-d8cc773e909a",
        "colab": {
          "base_uri": "https://localhost:8080/",
          "height": 193
        }
      },
      "source": [
        "readMeaning(['P1', 'P2', 'Q1', 'Q2', 'Q3', 'P3', 'P4', 'P5', 'Q4', 'Q5'])"
      ],
      "execution_count": 0,
      "outputs": [
        {
          "output_type": "stream",
          "text": [
            "P is ready to enter\n",
            "P gives the turn to Q\n",
            "Q is ready to enter\n",
            "Q gives the turn to P\n",
            "Q checking if it has to wait\n",
            "P checking if it has to wait\n",
            "P's critical section\n",
            "P no longer wants to enter and unbuffers Q\n",
            "Q's critical section\n",
            "Q no longer wants to enter\n"
          ],
          "name": "stdout"
        }
      ]
    },
    {
      "cell_type": "code",
      "metadata": {
        "id": "W-xPBiyRpaG0",
        "colab_type": "code",
        "outputId": "82ddb7f2-e0c5-4731-8a39-a532ebc24d4a",
        "colab": {
          "base_uri": "https://localhost:8080/",
          "height": 193
        }
      },
      "source": [
        "readMeaning(['Q1', 'P1', 'Q2', 'Q3', 'P2', 'P3', 'Q4', 'Q5', 'P4', 'P5'])"
      ],
      "execution_count": 0,
      "outputs": [
        {
          "output_type": "stream",
          "text": [
            "Q is ready to enter\n",
            "P is ready to enter\n",
            "Q gives the turn to P\n",
            "Q checking if it has to wait\n",
            "P gives the turn to Q\n",
            "P checking if it has to wait\n",
            "Q's critical section\n",
            "Q no longer wants to enter and unbuffers P\n",
            "P's critical section\n",
            "P no longer wants to enter\n"
          ],
          "name": "stdout"
        }
      ]
    },
    {
      "cell_type": "code",
      "metadata": {
        "id": "6YPiClXXpnsq",
        "colab_type": "code",
        "outputId": "2330f6b2-141d-4b62-9c7b-8b7b8127fa05",
        "colab": {
          "base_uri": "https://localhost:8080/",
          "height": 193
        }
      },
      "source": [
        "readMeaning(['Q1', 'P1', 'Q2', 'P2', 'P3', 'Q3', 'Q4', 'Q5', 'P4', 'P5'])"
      ],
      "execution_count": 0,
      "outputs": [
        {
          "output_type": "stream",
          "text": [
            "Q is ready to enter\n",
            "P is ready to enter\n",
            "Q gives the turn to P\n",
            "P gives the turn to Q\n",
            "P checking if it has to wait\n",
            "Q checking if it has to wait\n",
            "Q's critical section\n",
            "Q no longer wants to enter and unbuffers P\n",
            "P's critical section\n",
            "P no longer wants to enter\n"
          ],
          "name": "stdout"
        }
      ]
    },
    {
      "cell_type": "code",
      "metadata": {
        "id": "f8yWQ-vKqLzb",
        "colab_type": "code",
        "outputId": "055258c0-15ac-49dc-a10b-17c362be3da8",
        "colab": {
          "base_uri": "https://localhost:8080/",
          "height": 34
        }
      },
      "source": [
        "print(petersonsAlgorithm())"
      ],
      "execution_count": 0,
      "outputs": [
        {
          "output_type": "stream",
          "text": [
            "['Q1', 'P1', 'Q2', 'Q3', 'P2', 'P3', 'Q4', 'Q5', 'P4', 'P5']\n"
          ],
          "name": "stdout"
        }
      ]
    }
  ]
}